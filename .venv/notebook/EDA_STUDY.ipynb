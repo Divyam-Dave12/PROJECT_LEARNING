{
 "cells": [
  {
   "cell_type": "code",
   "execution_count": 30,
   "id": "bbc8da92",
   "metadata": {},
   "outputs": [
    {
     "ename": "ModuleNotFoundError",
     "evalue": "No module named 'seaborn'",
     "output_type": "error",
     "traceback": [
      "\u001b[1;31m---------------------------------------------------------------------------\u001b[0m",
      "\u001b[1;31mModuleNotFoundError\u001b[0m                       Traceback (most recent call last)",
      "Cell \u001b[1;32mIn[30], line 5\u001b[0m\n\u001b[0;32m      3\u001b[0m \u001b[38;5;28;01mimport\u001b[39;00m \u001b[38;5;21;01mwarnings\u001b[39;00m\n\u001b[0;32m      4\u001b[0m \u001b[38;5;28;01mimport\u001b[39;00m \u001b[38;5;21;01mpandas\u001b[39;00m \u001b[38;5;28;01mas\u001b[39;00m \u001b[38;5;21;01mpd\u001b[39;00m\n\u001b[1;32m----> 5\u001b[0m \u001b[38;5;28;01mimport\u001b[39;00m \u001b[38;5;21;01mseaborn\u001b[39;00m \u001b[38;5;28;01mas\u001b[39;00m \u001b[38;5;21;01msns\u001b[39;00m\n\u001b[0;32m      6\u001b[0m warnings\u001b[38;5;241m.\u001b[39mfilterwarnings(\u001b[38;5;124m\"\u001b[39m\u001b[38;5;124mignore\u001b[39m\u001b[38;5;124m\"\u001b[39m)\n",
      "\u001b[1;31mModuleNotFoundError\u001b[0m: No module named 'seaborn'"
     ]
    }
   ],
   "source": [
    "import numpy as np\n",
    "import matplotlib.pyplot as plt\n",
    "import warnings\n",
    "import pandas as pd\n",
    "import seaborn as sns\n",
    "warnings.filterwarnings(\"ignore\")\n"
   ]
  },
  {
   "cell_type": "code",
   "execution_count": null,
   "id": "e69a921c",
   "metadata": {},
   "outputs": [],
   "source": [
    "df = pd.read_csv('DATA/stud.csv')"
   ]
  },
  {
   "cell_type": "code",
   "execution_count": null,
   "id": "a3e5f19d",
   "metadata": {},
   "outputs": [],
   "source": [
    "df.head()"
   ]
  },
  {
   "cell_type": "code",
   "execution_count": null,
   "id": "19d482b6",
   "metadata": {},
   "outputs": [],
   "source": [
    "df.shape"
   ]
  },
  {
   "cell_type": "code",
   "execution_count": null,
   "id": "5eccee60",
   "metadata": {},
   "outputs": [],
   "source": [
    "#Perform Data checks to perform in EDA\n",
    "#check missing values \n",
    "#check duplicates \n",
    "#check the number of unique values in each columns \n",
    "#check statiistics of the data\n",
    "#check various categories present in the different categorical columns \n",
    "\n",
    "df.isnull().sum()"
   ]
  },
  {
   "cell_type": "code",
   "execution_count": null,
   "id": "fdf8b982",
   "metadata": {},
   "outputs": [],
   "source": [
    "df.duplicated().sum()"
   ]
  },
  {
   "cell_type": "code",
   "execution_count": null,
   "id": "5b7ae657",
   "metadata": {},
   "outputs": [],
   "source": [
    "df.info()"
   ]
  },
  {
   "cell_type": "code",
   "execution_count": null,
   "id": "5714165f",
   "metadata": {},
   "outputs": [],
   "source": [
    "df.nunique()"
   ]
  },
  {
   "cell_type": "code",
   "execution_count": null,
   "id": "9db7e336",
   "metadata": {},
   "outputs": [],
   "source": [
    "print(\"Categories in 'gender' variale : \" ,end =\" \")\n",
    "print(df['gender'].unique())\n",
    "print(\"Categories in 'race_ethnicity' variale : \" ,end = \" \")\n",
    "print(df['race_ethnicity'].unique())\n",
    "print(\"Categories in 'parental_level_of_education' variale : \", end = \" \")\n",
    "print(df['parental_level_of_education'].unique())\n",
    "print(\"Categories in 'lunch' variale : \" ,end = \" \")\n",
    "print(df['lunch'].unique())\n",
    "print(\"Categories in 'test_preparation_course' variale : \" ,end = \" \")\n",
    "print(df['test_preparation_course'].unique())"
   ]
  },
  {
   "cell_type": "code",
   "execution_count": null,
   "id": "5f34ab77",
   "metadata": {},
   "outputs": [],
   "source": [
    "numeric_features = [feature for feature in df.columns if df[feature].dtype != 'O']\n",
    "catagorical_features = [feature for feature in df.columns if df[feature].dtype == 'O']"
   ]
  },
  {
   "cell_type": "code",
   "execution_count": null,
   "id": "79ecd112",
   "metadata": {},
   "outputs": [],
   "source": [
    "print(f\"We have {format(len(numeric_features), ',d')} numeric features and {format(len(catagorical_features), ',d')} categorical features in the dataset.\")\n",
    "print(numeric_features)\n",
    "print(catagorical_features)"
   ]
  },
  {
   "cell_type": "code",
   "execution_count": null,
   "id": "ad3dd9cd",
   "metadata": {},
   "outputs": [],
   "source": [
    "df['total_score'] = df['math_score'] + df['reading_score'] + df['writing_score']\n",
    "df['average_score'] = df['total_score'] / 3\n",
    "print(df.head())\n"
   ]
  },
  {
   "cell_type": "code",
   "execution_count": 25,
   "id": "fb88d974",
   "metadata": {},
   "outputs": [
    {
     "name": "stdout",
     "output_type": "stream",
     "text": [
      "Number of students with top scores in math 58\n",
      "Number of students with top scores in reading 79\n",
      "Number of students with top scores in writing 78\n",
      "Number of students with full scores in math 7\n",
      "Number of students with full scores in reading 17\n",
      "Number of students with full scores in writing 14\n"
     ]
    }
   ],
   "source": [
    "top_marks_math = df[df['math_score']>= 90].count()['math_score']\n",
    "top_marks_reading = df[df['reading_score']>= 90].count()['reading_score']\n",
    "top_marks_writing = df[df['writing_score']>= 90].count()['writing_score']\n",
    "\n",
    "print(f\"Number of students with top scores in math {top_marks_math}\")\n",
    "print(f\"Number of students with top scores in reading {top_marks_reading}\")\n",
    "print(f\"Number of students with top scores in writing {top_marks_writing}\")\n",
    "\n",
    "full_marks_math = df[df['math_score'] == 100].count()['math_score']\n",
    "full_marks_reading = df[df['reading_score'] == 100].count()['reading_score']\n",
    "full_marks_writing= df[df['writing_score'] == 100].count()['writing_score']\n",
    "\n",
    "print(f\"Number of students with full scores in math {full_marks_math}\")\n",
    "print(f\"Number of students with full scores in reading {full_marks_reading}\")\n",
    "print(f\"Number of students with full scores in writing {full_marks_writing}\")\n"
   ]
  },
  {
   "cell_type": "code",
   "execution_count": null,
   "id": "a6a090a4",
   "metadata": {},
   "outputs": [],
   "source": [
    "# Visualization of the student data\n",
    "fig, axex = plt.subplots(2, 2, figsize = (15, 10))\n",
    "plt.subplot(121)\n",
    "sns.histplot(data = df , x = 'average_score', bins = 20, kde=True,color = 'blue')\n"
   ]
  }
 ],
 "metadata": {
  "kernelspec": {
   "display_name": "Python 3",
   "language": "python",
   "name": "python3"
  },
  "language_info": {
   "codemirror_mode": {
    "name": "ipython",
    "version": 3
   },
   "file_extension": ".py",
   "mimetype": "text/x-python",
   "name": "python",
   "nbconvert_exporter": "python",
   "pygments_lexer": "ipython3",
   "version": "3.8.20"
  }
 },
 "nbformat": 4,
 "nbformat_minor": 5
}
